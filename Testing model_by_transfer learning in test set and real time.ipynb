{
 "cells": [
  {
   "cell_type": "code",
   "execution_count": 1,
   "id": "fdca0a04",
   "metadata": {},
   "outputs": [],
   "source": [
    "import cv2\n",
    "import numpy as np\n",
    "import os \n",
    "os.environ['CUDA_VISIBLE_DEVICES'] = '-1'  # Setting it to -1 disables GPU\n",
    "from tensorflow.keras.models import load_model\n",
    "import tensorflow_hub as hub\n",
    "\n",
    "# Assuming `hub.KerasLayer` is the custom layer\n",
    "custom_objects = {'KerasLayer': hub.KerasLayer}\n",
    "\n",
    "face_classifier = cv2.CascadeClassifier(r'C:\\Users\\msi\\Emotion Recognition\\haarcascade_frontalface_default.xml')\n",
    "classifier = load_model(r'C:\\Users\\msi\\Emotion Recognition\\model2.h5', custom_objects=custom_objects)\n",
    "\n",
    "emotion_labels = ['Angry', 'Disgust', 'Fear', 'Happy', 'Neutral', 'Sad', 'Surprise']\n"
   ]
  },
  {
   "cell_type": "markdown",
   "id": "8c68ac1e",
   "metadata": {},
   "source": [
    "# Load train set:"
   ]
  },
  {
   "cell_type": "code",
   "execution_count": 2,
   "id": "979c9495",
   "metadata": {},
   "outputs": [],
   "source": [
    "data_dir='..\\\\Emotion Recognition\\\\images\\\\validation'"
   ]
  },
  {
   "cell_type": "code",
   "execution_count": 3,
   "id": "55095d49",
   "metadata": {},
   "outputs": [
    {
     "data": {
      "text/plain": [
       "WindowsPath('../Emotion Recognition/images/validation')"
      ]
     },
     "execution_count": 3,
     "metadata": {},
     "output_type": "execute_result"
    }
   ],
   "source": [
    "import pathlib\n",
    "data_dir = pathlib.Path(data_dir)\n",
    "data_dir"
   ]
  },
  {
   "cell_type": "code",
   "execution_count": 4,
   "id": "e365d057",
   "metadata": {},
   "outputs": [],
   "source": [
    "emotion_images_dict = {\n",
    "    'angry': list(data_dir.glob('angry/*')),\n",
    "    'disgust': list(data_dir.glob('disgust/*')),\n",
    "    'fear': list(data_dir.glob('fear/*')),\n",
    "    'happy': list(data_dir.glob('happy/*')),\n",
    "    'neutral': list(data_dir.glob('neutral/*')),\n",
    "    'sad': list(data_dir.glob('sad/*')),\n",
    "    'surprise': list(data_dir.glob('surprise/*'))\n",
    "}"
   ]
  },
  {
   "cell_type": "code",
   "execution_count": 5,
   "id": "7dac1397",
   "metadata": {},
   "outputs": [],
   "source": [
    "emotion_labels_dict = {\n",
    "    'angry': 0,\n",
    "    'disgust': 1,\n",
    "    'fear': 2,\n",
    "    'happy': 3,\n",
    "    'neutral': 4,\n",
    "    'sad' : 5,\n",
    "    'surprise' :6\n",
    "}"
   ]
  },
  {
   "cell_type": "code",
   "execution_count": 6,
   "id": "df7eef8a",
   "metadata": {},
   "outputs": [],
   "source": [
    "X, y = [], []\n",
    "\n",
    "for emotion_name, images in emotion_images_dict.items():\n",
    "    for image in images:\n",
    "        img = cv2.imread(str(image))\n",
    "        resized_img = cv2.resize(img,(224,224))\n",
    "        X.append(resized_img)\n",
    "        y.append(emotion_labels_dict[emotion_name])"
   ]
  },
  {
   "cell_type": "code",
   "execution_count": 7,
   "id": "bdb2d65b",
   "metadata": {},
   "outputs": [],
   "source": [
    "X = np.array(X)\n",
    "y = np.array(y)"
   ]
  },
  {
   "cell_type": "code",
   "execution_count": 8,
   "id": "ce240dd3",
   "metadata": {},
   "outputs": [],
   "source": [
    "X = X.astype('float32')"
   ]
  },
  {
   "cell_type": "code",
   "execution_count": 9,
   "id": "1bd97504",
   "metadata": {},
   "outputs": [
    {
     "data": {
      "text/plain": [
       "(7066, 224, 224, 3)"
      ]
     },
     "execution_count": 9,
     "metadata": {},
     "output_type": "execute_result"
    }
   ],
   "source": [
    "X.shape"
   ]
  },
  {
   "cell_type": "code",
   "execution_count": 10,
   "id": "78af5b2e",
   "metadata": {},
   "outputs": [],
   "source": [
    "X_scaled = X / 255.0"
   ]
  },
  {
   "cell_type": "markdown",
   "id": "74f0c8e6",
   "metadata": {},
   "source": [
    "# evaluate the train set: "
   ]
  },
  {
   "cell_type": "code",
   "execution_count": 11,
   "id": "54288109",
   "metadata": {},
   "outputs": [
    {
     "name": "stdout",
     "output_type": "stream",
     "text": [
      "221/221 [==============================] - 59s 262ms/step - loss: 1.3211 - acc: 0.5116\n"
     ]
    },
    {
     "data": {
      "text/plain": [
       "[1.3210643529891968, 0.5116048455238342]"
      ]
     },
     "execution_count": 11,
     "metadata": {},
     "output_type": "execute_result"
    }
   ],
   "source": [
    "classifier.evaluate(X_scaled,y)"
   ]
  },
  {
   "cell_type": "markdown",
   "id": "28ab3dd3",
   "metadata": {},
   "source": [
    "# fitting the train set to the model to get higher accuracy before testing in real time:"
   ]
  },
  {
   "cell_type": "code",
   "execution_count": 12,
   "id": "548dd385",
   "metadata": {},
   "outputs": [
    {
     "name": "stdout",
     "output_type": "stream",
     "text": [
      "Epoch 1/5\n",
      "221/221 [==============================] - 58s 254ms/step - loss: 1.3432 - acc: 0.5091\n",
      "Epoch 2/5\n",
      "221/221 [==============================] - 61s 276ms/step - loss: 1.2734 - acc: 0.5286\n",
      "Epoch 3/5\n",
      "221/221 [==============================] - 61s 275ms/step - loss: 1.2347 - acc: 0.5456\n",
      "Epoch 4/5\n",
      "221/221 [==============================] - 64s 289ms/step - loss: 1.1956 - acc: 0.5568\n",
      "Epoch 5/5\n",
      "221/221 [==============================] - 62s 279ms/step - loss: 1.1686 - acc: 0.5701\n"
     ]
    },
    {
     "data": {
      "text/plain": [
       "<keras.callbacks.History at 0x1f54ae778e0>"
      ]
     },
     "execution_count": 12,
     "metadata": {},
     "output_type": "execute_result"
    }
   ],
   "source": [
    "classifier.fit(X_scaled,y , epochs=5)"
   ]
  },
  {
   "cell_type": "code",
   "execution_count": 15,
   "id": "fcb9d49c",
   "metadata": {},
   "outputs": [],
   "source": [
    "classifier.save('../Emotion Recognition/model2.h5')"
   ]
  },
  {
   "cell_type": "markdown",
   "id": "a6cdd764",
   "metadata": {},
   "source": [
    "# Real time testing :"
   ]
  },
  {
   "cell_type": "code",
   "execution_count": 16,
   "id": "76b079e6",
   "metadata": {},
   "outputs": [],
   "source": [
    "classifier = load_model(r'C:\\Users\\msi\\Emotion Recognition\\model2.h5', custom_objects=custom_objects)"
   ]
  },
  {
   "cell_type": "code",
   "execution_count": 17,
   "id": "c8421db6",
   "metadata": {},
   "outputs": [
    {
     "name": "stdout",
     "output_type": "stream",
     "text": [
      "1/1 [==============================] - 0s 254ms/step\n",
      "1/1 [==============================] - 0s 32ms/step\n",
      "1/1 [==============================] - 0s 21ms/step\n",
      "1/1 [==============================] - 0s 25ms/step\n",
      "1/1 [==============================] - 0s 24ms/step\n",
      "1/1 [==============================] - 0s 33ms/step\n",
      "1/1 [==============================] - 0s 22ms/step\n",
      "1/1 [==============================] - 0s 21ms/step\n",
      "1/1 [==============================] - 0s 31ms/step\n",
      "1/1 [==============================] - 0s 30ms/step\n",
      "1/1 [==============================] - 0s 26ms/step\n",
      "1/1 [==============================] - 0s 26ms/step\n",
      "1/1 [==============================] - 0s 18ms/step\n",
      "1/1 [==============================] - 0s 21ms/step\n",
      "1/1 [==============================] - 0s 30ms/step\n",
      "1/1 [==============================] - 0s 18ms/step\n",
      "1/1 [==============================] - 0s 22ms/step\n",
      "1/1 [==============================] - 0s 33ms/step\n",
      "1/1 [==============================] - 0s 23ms/step\n",
      "1/1 [==============================] - 0s 30ms/step\n",
      "1/1 [==============================] - 0s 29ms/step\n",
      "1/1 [==============================] - 0s 29ms/step\n",
      "1/1 [==============================] - 0s 34ms/step\n",
      "1/1 [==============================] - 0s 19ms/step\n",
      "1/1 [==============================] - 0s 27ms/step\n",
      "1/1 [==============================] - 0s 34ms/step\n",
      "1/1 [==============================] - 0s 26ms/step\n",
      "1/1 [==============================] - 0s 33ms/step\n",
      "1/1 [==============================] - 0s 26ms/step\n",
      "1/1 [==============================] - 0s 27ms/step\n",
      "1/1 [==============================] - 0s 34ms/step\n",
      "1/1 [==============================] - 0s 31ms/step\n",
      "1/1 [==============================] - 0s 27ms/step\n",
      "1/1 [==============================] - 0s 21ms/step\n",
      "1/1 [==============================] - 0s 23ms/step\n",
      "1/1 [==============================] - 0s 24ms/step\n",
      "1/1 [==============================] - 0s 30ms/step\n",
      "1/1 [==============================] - 0s 33ms/step\n",
      "1/1 [==============================] - 0s 23ms/step\n",
      "1/1 [==============================] - 0s 29ms/step\n",
      "1/1 [==============================] - 0s 23ms/step\n",
      "1/1 [==============================] - 0s 22ms/step\n",
      "1/1 [==============================] - 0s 26ms/step\n",
      "1/1 [==============================] - 0s 25ms/step\n",
      "1/1 [==============================] - 0s 26ms/step\n",
      "1/1 [==============================] - 0s 26ms/step\n",
      "1/1 [==============================] - 0s 29ms/step\n",
      "1/1 [==============================] - 0s 27ms/step\n",
      "1/1 [==============================] - 0s 32ms/step\n",
      "1/1 [==============================] - 0s 32ms/step\n",
      "1/1 [==============================] - 0s 22ms/step\n",
      "1/1 [==============================] - 0s 19ms/step\n",
      "1/1 [==============================] - 0s 29ms/step\n",
      "1/1 [==============================] - 0s 19ms/step\n",
      "1/1 [==============================] - 0s 35ms/step\n",
      "1/1 [==============================] - 0s 27ms/step\n",
      "1/1 [==============================] - 0s 31ms/step\n",
      "1/1 [==============================] - 0s 28ms/step\n",
      "1/1 [==============================] - 0s 24ms/step\n",
      "1/1 [==============================] - 0s 27ms/step\n",
      "1/1 [==============================] - 0s 21ms/step\n",
      "1/1 [==============================] - 0s 26ms/step\n",
      "1/1 [==============================] - 0s 29ms/step\n",
      "1/1 [==============================] - 0s 29ms/step\n",
      "1/1 [==============================] - 0s 19ms/step\n",
      "1/1 [==============================] - 0s 19ms/step\n",
      "1/1 [==============================] - 0s 31ms/step\n",
      "1/1 [==============================] - 0s 17ms/step\n",
      "1/1 [==============================] - 0s 34ms/step\n",
      "1/1 [==============================] - 0s 35ms/step\n",
      "1/1 [==============================] - 0s 32ms/step\n",
      "1/1 [==============================] - 0s 31ms/step\n",
      "1/1 [==============================] - 0s 29ms/step\n",
      "1/1 [==============================] - 0s 27ms/step\n",
      "1/1 [==============================] - 0s 21ms/step\n",
      "1/1 [==============================] - 0s 41ms/step\n",
      "1/1 [==============================] - 0s 22ms/step\n",
      "1/1 [==============================] - 0s 33ms/step\n",
      "1/1 [==============================] - 0s 24ms/step\n",
      "1/1 [==============================] - 0s 31ms/step\n",
      "1/1 [==============================] - 0s 33ms/step\n",
      "1/1 [==============================] - 0s 30ms/step\n",
      "1/1 [==============================] - 0s 34ms/step\n"
     ]
    }
   ],
   "source": [
    "import cv2\n",
    "import numpy as np\n",
    "from tensorflow.keras.preprocessing.image import img_to_array\n",
    "from tensorflow.keras.applications.mobilenet_v2 import preprocess_input\n",
    "\n",
    "cap = cv2.VideoCapture(0)\n",
    "\n",
    "while True:\n",
    "    _, frame = cap.read()\n",
    "    labels = []\n",
    "    gray = cv2.cvtColor(frame, cv2.COLOR_BGR2GRAY)\n",
    "    faces = face_classifier.detectMultiScale(gray)\n",
    "\n",
    "    for (x, y, w, h) in faces:\n",
    "        cv2.rectangle(frame, (x, y), (x+w, y+h), (0, 255, 255), 2)\n",
    "        roi_gray = gray[y:y+h, x:x+w]\n",
    "        roi_color = frame[y:y+h, x:x+w]\n",
    "\n",
    "        # Resize the face region to match the input size of your model (224, 224, 3)\n",
    "        roi_resized = cv2.resize(roi_color, (224, 224))\n",
    "        roi_resized = cv2.cvtColor(roi_resized, cv2.COLOR_BGR2RGB)  # Ensure correct color format\n",
    "        roi_resized = img_to_array(roi_resized)\n",
    "        roi_resized = preprocess_input(roi_resized)\n",
    "        roi_resized = np.expand_dims(roi_resized, axis=0)\n",
    "\n",
    "        prediction = classifier.predict(roi_resized)[0]\n",
    "        label = emotion_labels[prediction.argmax()]\n",
    "        label_position = (x, y)\n",
    "        cv2.putText(frame, label, label_position, cv2.FONT_HERSHEY_SIMPLEX, 1, (0, 255, 0), 2)\n",
    "\n",
    "    cv2.imshow('Emotion Detector', frame)\n",
    "    if cv2.waitKey(1) & 0xFF == ord('q'):\n",
    "        break\n",
    "\n",
    "cap.release()\n",
    "cv2.destroyAllWindows()\n"
   ]
  },
  {
   "cell_type": "code",
   "execution_count": null,
   "id": "ed121a93",
   "metadata": {},
   "outputs": [],
   "source": []
  }
 ],
 "metadata": {
  "kernelspec": {
   "display_name": "Python 3 (ipykernel)",
   "language": "python",
   "name": "python3"
  },
  "language_info": {
   "codemirror_mode": {
    "name": "ipython",
    "version": 3
   },
   "file_extension": ".py",
   "mimetype": "text/x-python",
   "name": "python",
   "nbconvert_exporter": "python",
   "pygments_lexer": "ipython3",
   "version": "3.9.18"
  }
 },
 "nbformat": 4,
 "nbformat_minor": 5
}
