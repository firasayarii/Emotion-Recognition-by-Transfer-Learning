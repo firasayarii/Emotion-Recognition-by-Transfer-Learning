{
 "cells": [
  {
   "cell_type": "code",
   "execution_count": 1,
   "id": "1e04dd92",
   "metadata": {},
   "outputs": [],
   "source": [
    "import numpy as np\n",
    "import cv2\n",
    "\n",
    "import PIL.Image as Image\n",
    "import os\n",
    "os.environ['CUDA_VISIBLE_DEVICES'] = '-1'  # Setting it to -1 disables GPU\n",
    "\n",
    "\n",
    "import matplotlib.pylab as plt\n",
    "\n",
    "import tensorflow as tf\n",
    "import tensorflow_hub as hub\n",
    "\n",
    "from tensorflow import keras\n",
    "from tensorflow.keras import layers\n",
    "from tensorflow.keras.models import Sequential"
   ]
  },
  {
   "cell_type": "code",
   "execution_count": 2,
   "id": "639ddb1f",
   "metadata": {},
   "outputs": [],
   "source": [
    "IMAGE_SHAPE = (224, 224)\n",
    "url = \"https://tfhub.dev/google/tf2-preview/mobilenet_v2/classification/4\"  # Example MobileNetV2 from TF Hub\n",
    "classifier = tf.keras.Sequential([\n",
    "    hub.KerasLayer(url, input_shape=IMAGE_SHAPE+(3,))\n",
    "])"
   ]
  },
  {
   "cell_type": "markdown",
   "id": "06fc3da0",
   "metadata": {},
   "source": [
    "# Load dataset:"
   ]
  },
  {
   "cell_type": "code",
   "execution_count": 3,
   "id": "93b2043d",
   "metadata": {},
   "outputs": [],
   "source": [
    "data_dir='..\\\\Emotion Recognition\\\\images\\\\train'"
   ]
  },
  {
   "cell_type": "code",
   "execution_count": 4,
   "id": "32c2193f",
   "metadata": {},
   "outputs": [
    {
     "data": {
      "text/plain": [
       "'..\\\\Emotion Recognition\\\\images\\\\train'"
      ]
     },
     "execution_count": 4,
     "metadata": {},
     "output_type": "execute_result"
    }
   ],
   "source": [
    "data_dir"
   ]
  },
  {
   "cell_type": "code",
   "execution_count": 5,
   "id": "24491825",
   "metadata": {},
   "outputs": [
    {
     "data": {
      "text/plain": [
       "WindowsPath('../Emotion Recognition/images/train')"
      ]
     },
     "execution_count": 5,
     "metadata": {},
     "output_type": "execute_result"
    }
   ],
   "source": [
    "import pathlib\n",
    "data_dir = pathlib.Path(data_dir)\n",
    "data_dir"
   ]
  },
  {
   "cell_type": "code",
   "execution_count": 6,
   "id": "3821a970",
   "metadata": {},
   "outputs": [
    {
     "data": {
      "text/plain": [
       "[WindowsPath('../Emotion Recognition/images/train/angry/0.jpg'),\n",
       " WindowsPath('../Emotion Recognition/images/train/angry/1.jpg'),\n",
       " WindowsPath('../Emotion Recognition/images/train/angry/10.jpg'),\n",
       " WindowsPath('../Emotion Recognition/images/train/angry/10002.jpg'),\n",
       " WindowsPath('../Emotion Recognition/images/train/angry/10016.jpg')]"
      ]
     },
     "execution_count": 6,
     "metadata": {},
     "output_type": "execute_result"
    }
   ],
   "source": [
    "list(data_dir.glob('*/*.jpg'))[:5]"
   ]
  },
  {
   "cell_type": "code",
   "execution_count": 7,
   "id": "6181325c",
   "metadata": {},
   "outputs": [
    {
     "name": "stdout",
     "output_type": "stream",
     "text": [
      "28821\n"
     ]
    }
   ],
   "source": [
    "image_count = len(list(data_dir.glob('*/*.jpg')))\n",
    "print(image_count)"
   ]
  },
  {
   "cell_type": "markdown",
   "id": "484a9c87",
   "metadata": {},
   "source": [
    "# Read Emotion images from disk into numpy array using opencv:"
   ]
  },
  {
   "cell_type": "code",
   "execution_count": 8,
   "id": "0233b8d3",
   "metadata": {},
   "outputs": [],
   "source": [
    "emotion_images_dict = {\n",
    "    'angry': list(data_dir.glob('angry/*')),\n",
    "    'disgust': list(data_dir.glob('disgust/*')),\n",
    "    'fear': list(data_dir.glob('fear/*')),\n",
    "    'happy': list(data_dir.glob('happy/*')),\n",
    "    'neutral': list(data_dir.glob('neutral/*')),\n",
    "    'sad': list(data_dir.glob('sad/*')),\n",
    "    'surprise': list(data_dir.glob('surprise/*'))\n",
    "}"
   ]
  },
  {
   "cell_type": "code",
   "execution_count": 9,
   "id": "46c90faa",
   "metadata": {},
   "outputs": [],
   "source": [
    "emotion_labels_dict = {\n",
    "    'angry': 0,\n",
    "    'disgust': 1,\n",
    "    'fear': 2,\n",
    "    'happy': 3,\n",
    "    'neutral': 4,\n",
    "    'sad' : 5,\n",
    "    'surprise' :6\n",
    "}"
   ]
  },
  {
   "cell_type": "code",
   "execution_count": 10,
   "id": "5a8c78bd",
   "metadata": {},
   "outputs": [
    {
     "data": {
      "text/plain": [
       "[WindowsPath('../Emotion Recognition/images/train/sad/10006.jpg'),\n",
       " WindowsPath('../Emotion Recognition/images/train/sad/10008.jpg'),\n",
       " WindowsPath('../Emotion Recognition/images/train/sad/1001.jpg'),\n",
       " WindowsPath('../Emotion Recognition/images/train/sad/10020.jpg'),\n",
       " WindowsPath('../Emotion Recognition/images/train/sad/10028.jpg')]"
      ]
     },
     "execution_count": 10,
     "metadata": {},
     "output_type": "execute_result"
    }
   ],
   "source": [
    "emotion_images_dict['sad'][:5]"
   ]
  },
  {
   "cell_type": "code",
   "execution_count": 11,
   "id": "eba59bd1",
   "metadata": {},
   "outputs": [
    {
     "data": {
      "text/plain": [
       "'..\\\\Emotion Recognition\\\\images\\\\train\\\\sad\\\\10006.jpg'"
      ]
     },
     "execution_count": 11,
     "metadata": {},
     "output_type": "execute_result"
    }
   ],
   "source": [
    "str(emotion_images_dict['sad'][0])"
   ]
  },
  {
   "cell_type": "code",
   "execution_count": 12,
   "id": "f55cb9ce",
   "metadata": {},
   "outputs": [],
   "source": [
    "img=cv2.imread(str(emotion_images_dict['sad'][0]))"
   ]
  },
  {
   "cell_type": "code",
   "execution_count": 13,
   "id": "95570a97",
   "metadata": {},
   "outputs": [
    {
     "data": {
      "text/plain": [
       "(48, 48, 3)"
      ]
     },
     "execution_count": 13,
     "metadata": {},
     "output_type": "execute_result"
    }
   ],
   "source": [
    "img.shape"
   ]
  },
  {
   "cell_type": "code",
   "execution_count": 14,
   "id": "80768029",
   "metadata": {},
   "outputs": [
    {
     "data": {
      "text/plain": [
       "(224, 224, 3)"
      ]
     },
     "execution_count": 14,
     "metadata": {},
     "output_type": "execute_result"
    }
   ],
   "source": [
    "cv2.resize(img,(224,224)).shape"
   ]
  },
  {
   "cell_type": "code",
   "execution_count": 15,
   "id": "01da27cd",
   "metadata": {},
   "outputs": [
    {
     "data": {
      "text/plain": [
       "<matplotlib.image.AxesImage at 0x16bacb868e0>"
      ]
     },
     "execution_count": 15,
     "metadata": {},
     "output_type": "execute_result"
    },
    {
     "data": {
      "image/png": "[encoded data removed]",
      "text/plain": [
       "<Figure size 640x480 with 1 Axes>"
      ]
     },
     "metadata": {},
     "output_type": "display_data"
    }
   ],
   "source": [
    "plt.imshow(img)"
   ]
  },
  {
   "cell_type": "code",
   "execution_count": 16,
   "id": "741a106f",
   "metadata": {},
   "outputs": [
    {
     "data": {
      "text/plain": [
       "<matplotlib.image.AxesImage at 0x16bae14a190>"
      ]
     },
     "execution_count": 16,
     "metadata": {},
     "output_type": "execute_result"
    },
    {
     "data": {
      "image/png": "[encoded data removed]",
      "text/plain": [
       "<Figure size 640x480 with 1 Axes>"
      ]
     },
     "metadata": {},
     "output_type": "display_data"
    }
   ],
   "source": [
    "plt.imshow(cv2.resize(img,(224,224)))"
   ]
  },
  {
   "cell_type": "code",
   "execution_count": 17,
   "id": "89b9f8e2",
   "metadata": {},
   "outputs": [],
   "source": [
    "X, y = [], []\n",
    "\n",
    "for emotion_name, images in emotion_images_dict.items():\n",
    "    for image in images:\n",
    "        img = cv2.imread(str(image))\n",
    "        resized_img = cv2.resize(img,(224,224))\n",
    "        X.append(resized_img)\n",
    "        y.append(emotion_labels_dict[emotion_name])"
   ]
  },
  {
   "cell_type": "code",
   "execution_count": 18,
   "id": "c805d912",
   "metadata": {},
   "outputs": [],
   "source": [
    "X = np.array(X)\n",
    "y = np.array(y)"
   ]
  },
  {
   "cell_type": "code",
   "execution_count": 19,
   "id": "86d00f19",
   "metadata": {},
   "outputs": [
    {
     "name": "stdout",
     "output_type": "stream",
     "text": [
      "0: 3993 occurrence(s)\n",
      "1: 436 occurrence(s)\n",
      "2: 4103 occurrence(s)\n",
      "3: 7164 occurrence(s)\n",
      "4: 4982 occurrence(s)\n",
      "5: 4938 occurrence(s)\n",
      "6: 3205 occurrence(s)\n"
     ]
    }
   ],
   "source": [
    "unique_elements, counts = np.unique(y, return_counts=True)\n",
    "\n",
    "# Afficher les résultats\n",
    "for element, count in zip(unique_elements, counts):\n",
    "    print(f\"{element}: {count} occurrence(s)\")"
   ]
  },
  {
   "cell_type": "code",
   "execution_count": 20,
   "id": "4af0346e",
   "metadata": {},
   "outputs": [],
   "source": [
    "X = X.astype('float32')"
   ]
  },
  {
   "cell_type": "code",
   "execution_count": 21,
   "id": "6b99cf38",
   "metadata": {},
   "outputs": [],
   "source": [
    "X_scaled = X / 255.0"
   ]
  },
  {
   "cell_type": "code",
   "execution_count": 22,
   "id": "3fa79ef6",
   "metadata": {},
   "outputs": [
    {
     "data": {
      "text/plain": [
       "(28821, 224, 224, 3)"
      ]
     },
     "execution_count": 22,
     "metadata": {},
     "output_type": "execute_result"
    }
   ],
   "source": [
    "X.shape"
   ]
  },
  {
   "cell_type": "code",
   "execution_count": 23,
   "id": "a1210aca",
   "metadata": {},
   "outputs": [],
   "source": [
    "feature_extractor_model=\"https://www.kaggle.com/models/google/mobilenet-v2/frameworks/TensorFlow2/variations/tf2-preview-feature-vector/versions/4\"\n",
    "pretrained_model_without_top_layer = hub.KerasLayer(\n",
    "    feature_extractor_model, input_shape=(224, 224, 3), trainable=False)"
   ]
  },
  {
   "cell_type": "code",
   "execution_count": 27,
   "id": "8f03a9a8",
   "metadata": {},
   "outputs": [
    {
     "name": "stdout",
     "output_type": "stream",
     "text": [
      "Model: \"sequential_2\"\n",
      "_________________________________________________________________\n",
      " Layer (type)                Output Shape              Param #   \n",
      "=================================================================\n",
      " keras_layer_1 (KerasLayer)  (None, 1280)              2257984   \n",
      "                                                                 \n",
      " dense_1 (Dense)             (None, 7)                 8967      \n",
      "                                                                 \n",
      "=================================================================\n",
      "Total params: 2,266,951\n",
      "Trainable params: 8,967\n",
      "Non-trainable params: 2,257,984\n",
      "_________________________________________________________________\n"
     ]
    }
   ],
   "source": [
    "num_of_emotions= 7\n",
    "\n",
    "model = tf.keras.Sequential([\n",
    "  pretrained_model_without_top_layer,\n",
    "  tf.keras.layers.Dense(num_of_emotions)\n",
    "])\n",
    "\n",
    "model.summary()"
   ]
  },
  {
   "cell_type": "code",
   "execution_count": 28,
   "id": "fada2f79",
   "metadata": {},
   "outputs": [
    {
     "name": "stdout",
     "output_type": "stream",
     "text": [
      "Epoch 1/10\n",
      "901/901 [==============================] - 469s 517ms/step - loss: 1.5251 - acc: 0.4191\n",
      "Epoch 2/10\n",
      "901/901 [==============================] - 491s 545ms/step - loss: 1.3620 - acc: 0.4886\n",
      "Epoch 3/10\n",
      "901/901 [==============================] - 476s 528ms/step - loss: 1.3105 - acc: 0.5085\n",
      "Epoch 4/10\n",
      "901/901 [==============================] - 467s 518ms/step - loss: 1.2790 - acc: 0.5213\n",
      "Epoch 5/10\n",
      "901/901 [==============================] - 471s 523ms/step - loss: 1.2611 - acc: 0.5301\n",
      "Epoch 6/10\n",
      "901/901 [==============================] - 466s 517ms/step - loss: 1.2425 - acc: 0.5349\n",
      "Epoch 7/10\n",
      "901/901 [==============================] - 471s 523ms/step - loss: 1.2305 - acc: 0.5415\n",
      "Epoch 8/10\n",
      "901/901 [==============================] - 481s 534ms/step - loss: 1.2215 - acc: 0.5425\n",
      "Epoch 9/10\n",
      "901/901 [==============================] - 474s 526ms/step - loss: 1.2120 - acc: 0.5486\n",
      "Epoch 10/10\n",
      "901/901 [==============================] - 482s 535ms/step - loss: 1.2066 - acc: 0.5505\n"
     ]
    },
    {
     "data": {
      "text/plain": [
       "<keras.callbacks.History at 0x16cf5b67e50>"
      ]
     },
     "execution_count": 28,
     "metadata": {},
     "output_type": "execute_result"
    }
   ],
   "source": [
    "model.compile(\n",
    "  optimizer=\"adam\",\n",
    "  loss=tf.keras.losses.SparseCategoricalCrossentropy(from_logits=True),\n",
    "  metrics=['acc'])\n",
    "\n",
    "model.fit(X_scaled, y, epochs=10)"
   ]
  },
  {
   "cell_type": "markdown",
   "id": "87029db0",
   "metadata": {},
   "source": [
    "# save the model:"
   ]
  },
  {
   "cell_type": "code",
   "execution_count": 29,
   "id": "28ed028d",
   "metadata": {},
   "outputs": [],
   "source": [
    "model.save('../Emotion Recognition/model2.h5')"
   ]
  }
 ],
 "metadata": {
  "kernelspec": {
   "display_name": "Python 3 (ipykernel)",
   "language": "python",
   "name": "python3"
  },
  "language_info": {
   "codemirror_mode": {
    "name": "ipython",
    "version": 3
   },
   "file_extension": ".py",
   "mimetype": "text/x-python",
   "name": "python",
   "nbconvert_exporter": "python",
   "pygments_lexer": "ipython3",
   "version": "3.9.18"
  }
 },
 "nbformat": 4,
 "nbformat_minor": 5
}
